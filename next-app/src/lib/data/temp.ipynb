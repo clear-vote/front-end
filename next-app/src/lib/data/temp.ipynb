{
 "cells": [
  {
   "cell_type": "code",
   "execution_count": 3,
   "metadata": {},
   "outputs": [],
   "source": [
    "import json"
   ]
  },
  {
   "cell_type": "code",
   "execution_count": null,
   "metadata": {},
   "outputs": [],
   "source": [
    "# Filter out cities not in king county\n",
    "\n",
    "def filter_cities(filename='city.geojson'):\n",
    "    # Open and load the GeoJSON file\n",
    "    with open(filename, 'r') as file:\n",
    "        data = json.load(file)\n",
    "\n",
    "    # Filter out features that do not have \"COUNTY_NM\": \"king\"\n",
    "    filtered_features = [feature for feature in data['features']\n",
    "                         if feature['properties'].get('COUNTY_NM') == 'king']\n",
    "\n",
    "    # Update the features in the original data with the filtered features\n",
    "    data['features'] = filtered_features\n",
    "\n",
    "    # Save the modified data back to the GeoJSON file\n",
    "    with open(filename, 'w') as file:\n",
    "        json.dump(data, file, separators=(',', ':'))\n",
    "\n",
    "# Call the function\n",
    "filter_cities()"
   ]
  },
  {
   "cell_type": "code",
   "execution_count": 14,
   "metadata": {},
   "outputs": [
    {
     "name": "stdout",
     "output_type": "stream",
     "text": [
      "{'auburn', 'northshore', 'shoreline', 'federal way', 'bellevue', 'tahoma', 'fife', 'riverview', 'lake washington', 'kent', 'tukwila', 'enumclaw', 'seattle', 'vashon island', 'mercer island', 'issaquah', 'renton', 'highline', 'snoqualmie valley', 'skykomish'}\n"
     ]
    }
   ],
   "source": [
    "# Initialize an empty set to store unique area_names where boundary_type is \"school_district\"\n",
    "school_districts = set()\n",
    "\n",
    "with open('contestData.json', 'r') as file:\n",
    "    data = json.load(file)\n",
    "\n",
    "# Iterate through the data to find all area_names with the required boundary_type\n",
    "for item in data:\n",
    "    for contest in item[\"contests\"]:\n",
    "        if contest[\"position_info\"][\"boundary_type\"] == \"school district\":\n",
    "            school_districts.add(contest[\"position_info\"][\"area_name\"])\n",
    "\n",
    "# Print the set of area names\n",
    "print(school_districts)"
   ]
  },
  {
   "cell_type": "code",
   "execution_count": 15,
   "metadata": {},
   "outputs": [],
   "source": [
    "def filter_school_districts(filename='school_district.geojson'):\n",
    "    # Open and load the GeoJSON file\n",
    "    with open(filename, 'r') as file:\n",
    "        data = json.load(file)\n",
    "    \n",
    "    # Filter out features that do not have \"COUNTY_NM\": \"king\"\n",
    "    filtered_features = [feature for feature in data['features']\n",
    "                         if feature['properties'].get('name') in school_districts]\n",
    "\n",
    "    # Update the features in the original data with the filtered features\n",
    "    data['features'] = filtered_features\n",
    "\n",
    "    # Save the modified data back to the GeoJSON file\n",
    "    with open(filename, 'w') as file:\n",
    "        json.dump(data, file, separators=(',', ':'))\n",
    "\n",
    "# Call the function\n",
    "filter_school_districts()"
   ]
  },
  {
   "cell_type": "code",
   "execution_count": null,
   "metadata": {},
   "outputs": [],
   "source": []
  }
 ],
 "metadata": {
  "kernelspec": {
   "display_name": "Python 3",
   "language": "python",
   "name": "python3"
  },
  "language_info": {
   "codemirror_mode": {
    "name": "ipython",
    "version": 3
   },
   "file_extension": ".py",
   "mimetype": "text/x-python",
   "name": "python",
   "nbconvert_exporter": "python",
   "pygments_lexer": "ipython3",
   "version": "3.11.7"
  }
 },
 "nbformat": 4,
 "nbformat_minor": 2
}
